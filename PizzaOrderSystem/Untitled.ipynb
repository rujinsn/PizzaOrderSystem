{
 "cells": [
  {
   "cell_type": "code",
   "execution_count": 1,
   "id": "55467e15-6b8d-40fa-862a-debb778eff2f",
   "metadata": {},
   "outputs": [],
   "source": [
    "import csv"
   ]
  },
  {
   "cell_type": "code",
   "execution_count": 2,
   "id": "3ca90784-940e-46e8-9b47-388d3dfc6b6c",
   "metadata": {},
   "outputs": [],
   "source": [
    "from datetime import datetime "
   ]
  },
  {
   "cell_type": "code",
   "execution_count": 3,
   "id": "ad95f0bd-ef30-42a9-acca-9cbaed95f624",
   "metadata": {},
   "outputs": [],
   "source": [
    "class Pizza():\n",
    "    def __init__(self, description, cost):\n",
    "        self.description = description\n",
    "        self.cost = cost\n",
    "    def get_cost(self):\n",
    "        return self.cost\n",
    "    def get_description(self):\n",
    "        return self.description"
   ]
  },
  {
   "cell_type": "code",
   "execution_count": 4,
   "id": "89217a25-b381-42b2-a052-8b6c5a1755a1",
   "metadata": {},
   "outputs": [],
   "source": [
    "class Classic(Pizza):\n",
    "    def __init__(self):\n",
    "        super().__init__(\"Klasik pizza\", 75)\n",
    "class Margherita(Pizza):\n",
    "    def __init__(self):\n",
    "        super().__init__(\"Margarita pizza\", 60)\n",
    "class TurkishPizza(Pizza):\n",
    "    def __init__(self):\n",
    "        super().__init__(\"Türk pizzası\", 85)\n",
    "class SimplePizza(Pizza):\n",
    "    def __init__(self):\n",
    "        super().__init__(\"Sade pizza\", 55)"
   ]
  },
  {
   "cell_type": "code",
   "execution_count": 5,
   "id": "51dbb9c0-76d9-4859-a746-7a1b409abb8b",
   "metadata": {},
   "outputs": [],
   "source": [
    "class Decorator(Pizza):\n",
    "    def __init__(self, component):\n",
    "        super().__init__(component.get_description(), component.get_cost())\n",
    "        self.component = component\n",
    "    def get_cost(self):\n",
    "        return self.component.get_cost() + Pizza.get_cost(self)\n",
    "    def get_description(self):\n",
    "        return self.component.get_description() + ' ' + Pizza.get_description(self)"
   ]
  },
  {
   "cell_type": "code",
   "execution_count": 6,
   "id": "cd64b756-da33-4481-a11f-38a8701c42ff",
   "metadata": {},
   "outputs": [],
   "source": [
    "class Olive(Decorator):\n",
    "    def __init__(self, pizza):\n",
    "        super().__init__(pizza)\n",
    "        self.description = \"ve zeytin\"\n",
    "        self.cost = 20\n",
    "class Mushroom(Decorator):\n",
    "    def __init__(self, pizza):\n",
    "        super().__init__(pizza)\n",
    "        self.description = \"ve mantarlar\"\n",
    "        self.cost = 35 \n",
    "class GoatCheese(Decorator):\n",
    "    def __init__(self, pizza):\n",
    "        super().__init__(pizza)\n",
    "        self.description = \"ve keçi peyniri\"\n",
    "        self.cost = 30 \n",
    "class Meat(Decorator):\n",
    "    def __init__(self, pizza):\n",
    "        super().__init__(pizza)\n",
    "        self.description = \"ve et\"\n",
    "        self.cost = 70 \n",
    "class Onion(Decorator):\n",
    "    def __init__(self, pizza):\n",
    "        super().__init__(pizza)\n",
    "        self.description = \"ve soğan\"\n",
    "        self.cost = 5   \n",
    "class Corn(Decorator):\n",
    "    def __init__(self, pizza):\n",
    "        super().__init__(pizza)\n",
    "        self.description = \"ve mısır\"\n",
    "        self.cost = 15"
   ]
  },
  {
   "cell_type": "code",
   "execution_count": 7,
   "id": "1879ed17-afb5-4357-8a69-0f3e0c8822f8",
   "metadata": {},
   "outputs": [
    {
     "name": "stdout",
     "output_type": "stream",
     "text": [
      "* Lütfen Bir Pizza Tabanı Seçiniz:\n",
      "1: Klasik\n",
      "2: Margarita\n",
      "3: TürkPizza\n",
      "4: Sade Pizza\n",
      "* ve seçeceğiniz sos:\n",
      "11: Zeytin\n",
      "12: Mantarlar\n",
      "13: Keçi Peyniri\n",
      "14: Et\n",
      "15: Soğan\n",
      "16: Mısır\n",
      "* Teşekkür ederiz!\n",
      "\n"
     ]
    },
    {
     "name": "stdin",
     "output_type": "stream",
     "text": [
      "Pizza seçiminiz?  1\n",
      "Sos seçimi yapınız?  12\n",
      "İsminizi giriniz:  rujin\n",
      "11 haneli TC Kimlik numaranızı giriniz:  12345678987\n",
      "Kredi kartı numaranızı giriniz:  1234567898765432\n",
      "Kredi kartı şifrenizi giriniz:  1234\n"
     ]
    }
   ],
   "source": [
    "if __name__== \"__main__\":\n",
    "    menu = open(\"menu.txt\",\"r\",encoding=\"utf-8\")\n",
    "    print(menu.read())\n",
    "    global pizza\n",
    "    global sauce\n",
    "    while True:\n",
    "        pizza_selection =  int(input(\"Pizza seçiminiz? \"))\n",
    "        if pizza_selection == 1:\n",
    "            pizza = Classic()\n",
    "            break\n",
    "        elif pizza_selection == 2:\n",
    "            pizza = Margherita()\n",
    "            break\n",
    "        elif pizza_selection == 3:\n",
    "            pizza = TurkishPizza()\n",
    "            break\n",
    "        elif pizza_selection == 4:\n",
    "            pizza = SimplePizza()\n",
    "            break\n",
    "        else:\n",
    "            print(\"Geçersiz seçim!\")\n",
    "            continue\n",
    "    while True:\n",
    "        sauce_selection =  int(input(\"Sos seçimi yapınız? \")) \n",
    "        if sauce_selection == 11:\n",
    "            sauce = Olive(pizza)\n",
    "            break\n",
    "        elif sauce_selection == 12:\n",
    "            sauce = Mushroom(pizza)\n",
    "            break\n",
    "        elif sauce_selection == 13:\n",
    "            sauce = GoatCheese(pizza)\n",
    "            break\n",
    "        elif sauce_selection == 14:\n",
    "            sauce = Meat(pizza)\n",
    "            break\n",
    "        elif sauce_selection == 15:\n",
    "            sauce = Onion(pizza)\n",
    "            break\n",
    "        elif sauce_selection == 16:\n",
    "            sauce = Corn(pizza)\n",
    "            break\n",
    "        else:\n",
    "            print(\"Geçersiz seçim!\")\n",
    "            continue\n",
    "    with open(\"Orders_Db.csv\", 'w+',encoding=\"utf-8\") as file:\n",
    "        myFile = csv.writer(file) \n",
    "        myFile.writerow([\"İsim\", \"TC\", \"Kart Bilgisi\", \"Kart Şifresi\", \"Sipariş Detayı\",\"Tutar\", \"Sipariş Tarihi\"])\n",
    "        while True:\n",
    "            name = input(\"İsminizi giriniz: \")\n",
    "            if any(char.isdigit() for char in name):\n",
    "                print(\"Geçersiz giriş..\")\n",
    "                continue\n",
    "            else:\n",
    "                break\n",
    "        while True:\n",
    "            tc = input(\"11 haneli TC Kimlik numaranızı giriniz: \")\n",
    "            if(not tc.isdigit() or len(tc) != 11):\n",
    "                print(\"T.C. kimlik numarası 11 haneden oluşmalıdır..\")\n",
    "                continue\n",
    "            else:\n",
    "                break\n",
    "        while True:\n",
    "            credit = input(\"Kredi kartı numaranızı giriniz: \")\n",
    "            if(not credit.isdigit() or len(credit) != 16):\n",
    "                print(\"Kredi kartı numarası 16 haneden oluşmalıdır..\")\n",
    "                continue\n",
    "            else:\n",
    "                break\n",
    "        while True:\n",
    "            credit_password = input(\"Kredi kartı şifrenizi giriniz: \")\n",
    "            if(not credit_password.isdigit() or len(credit_password) != 4):\n",
    "                print(\"Kredi kartı şifresi 4 haneden oluşmalıdır..\")\n",
    "                continue\n",
    "            else:\n",
    "                break\n",
    "        now = datetime.now()\n",
    "        shop_list = sauce.get_description()\n",
    "        price = sauce.get_cost()\n",
    "        myFile.writerow([name, tc, credit, credit_password, shop_list, price, now])"
   ]
  },
  {
   "cell_type": "code",
   "execution_count": null,
   "id": "778444c9-f90e-4124-91e6-b7a9e1cc9ff0",
   "metadata": {},
   "outputs": [],
   "source": []
  }
 ],
 "metadata": {
  "kernelspec": {
   "display_name": "Python 3 (ipykernel)",
   "language": "python",
   "name": "python3"
  },
  "language_info": {
   "codemirror_mode": {
    "name": "ipython",
    "version": 3
   },
   "file_extension": ".py",
   "mimetype": "text/x-python",
   "name": "python",
   "nbconvert_exporter": "python",
   "pygments_lexer": "ipython3",
   "version": "3.9.13"
  }
 },
 "nbformat": 4,
 "nbformat_minor": 5
}
